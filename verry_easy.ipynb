{
 "cells": [
  {
   "cell_type": "markdown",
   "metadata": {},
   "source": [
    "# 準備\n",
    "\n",
    "必要なライブラリと判定関数を読み込む。"
   ]
  },
  {
   "cell_type": "code",
   "execution_count": 66,
   "metadata": {},
   "outputs": [],
   "source": [
    "import re\n",
    "\n",
    "def test(pattern, text, groups = []):\n",
    "    result = re.search(pattern, text)\n",
    "    print(('Found!' if result is not None else 'Not Found!!!!'))\n",
    "    if (result is not None and 0 < len(groups)):\n",
    "        max_len = len(result.groups())\n",
    "        for i, e in enumerate(groups):\n",
    "            idx = i + 1\n",
    "            if (max_len <= idx):\n",
    "                res = result.group(idx)\n",
    "                eq = e == res\n",
    "                print(('Match!' if e == res else 'Unmatch!!!') + ' [' + e + '] and [' + res + ']')"
   ]
  },
  {
   "cell_type": "code",
   "execution_count": 67,
   "metadata": {},
   "outputs": [
    {
     "name": "stdout",
     "output_type": "stream",
     "text": [
      "Not Found!!!!\n"
     ]
    }
   ],
   "source": [
    "test(pattern = 'a', text = 'hoge', groups = ['hoge'])"
   ]
  },
  {
   "cell_type": "code",
   "execution_count": null,
   "metadata": {},
   "outputs": [],
   "source": []
  },
  {
   "cell_type": "code",
   "execution_count": null,
   "metadata": {},
   "outputs": [],
   "source": []
  }
 ],
 "metadata": {
  "kernelspec": {
   "display_name": "Python 3",
   "language": "python",
   "name": "python3"
  },
  "language_info": {
   "codemirror_mode": {
    "name": "ipython",
    "version": 3
   },
   "file_extension": ".py",
   "mimetype": "text/x-python",
   "name": "python",
   "nbconvert_exporter": "python",
   "pygments_lexer": "ipython3",
   "version": "3.6.0"
  }
 },
 "nbformat": 4,
 "nbformat_minor": 2
}
